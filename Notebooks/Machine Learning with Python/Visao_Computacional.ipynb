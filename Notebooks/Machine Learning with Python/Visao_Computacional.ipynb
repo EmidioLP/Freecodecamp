{
  "nbformat": 4,
  "nbformat_minor": 0,
  "metadata": {
    "colab": {
      "provenance": [],
      "authorship_tag": "ABX9TyP8gHvedUqdXBAgwN82BLBg",
      "include_colab_link": true
    },
    "kernelspec": {
      "name": "python3",
      "display_name": "Python 3"
    },
    "language_info": {
      "name": "python"
    }
  },
  "cells": [
    {
      "cell_type": "markdown",
      "metadata": {
        "id": "view-in-github",
        "colab_type": "text"
      },
      "source": [
        "<a href=\"https://colab.research.google.com/github/EmidioLP/Freecodecamp/blob/main/Notebooks/Machine%20Learning%20with%20Python/Visao_Computacional.ipynb\" target=\"_parent\"><img src=\"https://colab.research.google.com/assets/colab-badge.svg\" alt=\"Open In Colab\"/></a>"
      ]
    },
    {
      "cell_type": "markdown",
      "source": [
        "Esse notebook é baseado nas aulas disponibilizadas em: https://www.freecodecamp.org/portuguese/learn/machine-learning-with-python/"
      ],
      "metadata": {
        "id": "qfrqFtHP8Fvi"
      }
    },
    {
      "cell_type": "markdown",
      "source": [
        "# Visão computacional\n",
        "\n",
        "Esse módulo irá ensinar classificação de imagens e detecção/reconhecimento de objetos utilizando visão computacional com algo chamado **convolutional neural network**.\n",
        "\n",
        "Esse algoritmo detém as seguintes características:\n",
        "\n",
        "\n",
        "*   Image Data\n",
        "*   Convolutional Layer\n",
        "*   Pooling Layer\n",
        "*   CNN Architectures\n",
        "\n"
      ],
      "metadata": {
        "id": "GelCGjVMs9bi"
      }
    },
    {
      "cell_type": "markdown",
      "source": [
        "# Image Data\n",
        "\n",
        "Agora, iremos lidar com dados em imagem que geralmente é criado com três dimensões. As três dimensões são as seguintes:\n",
        "\n",
        "\n",
        "\n",
        "*   Image height\n",
        "*   Image width\n",
        "*   Color channels\n",
        "\n"
      ],
      "metadata": {
        "id": "NuXWna4BtlCA"
      }
    },
    {
      "cell_type": "code",
      "execution_count": null,
      "metadata": {
        "id": "1n_9NX1-8E42"
      },
      "outputs": [],
      "source": []
    }
  ]
}