{
  "nbformat": 4,
  "nbformat_minor": 0,
  "metadata": {
    "colab": {
      "provenance": [],
      "authorship_tag": "ABX9TyMcfqfycnKwt80979x7dG++",
      "include_colab_link": true
    },
    "kernelspec": {
      "name": "python3",
      "display_name": "Python 3"
    },
    "language_info": {
      "name": "python"
    }
  },
  "cells": [
    {
      "cell_type": "markdown",
      "metadata": {
        "id": "view-in-github",
        "colab_type": "text"
      },
      "source": [
        "<a href=\"https://colab.research.google.com/github/EmidioLP/Freecodecamp/blob/main/Notebooks/Machine%20Learning%20with%20Python/Clustering.ipynb\" target=\"_parent\"><img src=\"https://colab.research.google.com/assets/colab-badge.svg\" alt=\"Open In Colab\"/></a>"
      ]
    },
    {
      "cell_type": "markdown",
      "source": [
        "Esse notebook é baseado nas aulas disponibilizadas em: https://www.freecodecamp.org/portuguese/learn/machine-learning-with-python/"
      ],
      "metadata": {
        "id": "En-7bO6MV0Fg"
      }
    },
    {
      "cell_type": "markdown",
      "source": [
        "# Clustering\n",
        "\n",
        "Clustering é uma téncnica de Machine Learning que envolve o agrupamento de pontos de dados. Na teoria, pontos de dados que estão no mesmo grupo devem ter propriedades e/ou características similires, enquanto pontos de dados em grupos diferentes deveriam ter propriedades e/ou características altamente distintas. (https://towardsdatascience.com/the-5-clustering-algorithms-data-scientists-need-to-know-a36d136ef68)"
      ],
      "metadata": {
        "id": "3hLd2MtTTlcc"
      }
    },
    {
      "cell_type": "markdown",
      "source": [
        "# Hidden Markov Model\n",
        "\n",
        "\"O Modelo Oculto de Markov é um conjunto finito de estados , cada um dos quais está associado a uma distribuição de probabilidade (geralmente multidimensional) []. As transições entre os estados são governadas por um conjunto de probabilidades chamadas probabilidades de transição.\" (http://jedlik.phy.bme.hu/~gerjanos/HMM/node4.html)\n",
        "\n",
        "O Modelo Oculto de Markov trabalha com probabilidade para prever eventos futuros ou estados. Nesse módulo, irá se utilizar esse modelo para prever dados sobre o Clima. \n",
        "\n",
        "Essa seção é baseada no seguinte tutorial disponibilizado pelo próprio Tensorflow: https://www.tensorflow.org/probability/api_docs/python/tfp/distributions/HiddenMarkovModel"
      ],
      "metadata": {
        "id": "HUUR02srUZy5"
      }
    },
    {
      "cell_type": "code",
      "execution_count": null,
      "metadata": {
        "id": "jF0gThQHTj5H"
      },
      "outputs": [],
      "source": []
    }
  ]
}