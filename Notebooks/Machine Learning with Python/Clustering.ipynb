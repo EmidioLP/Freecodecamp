{
  "nbformat": 4,
  "nbformat_minor": 0,
  "metadata": {
    "colab": {
      "provenance": [],
      "authorship_tag": "ABX9TyMor4IutHmL8yOyDzmXhwTz",
      "include_colab_link": true
    },
    "kernelspec": {
      "name": "python3",
      "display_name": "Python 3"
    },
    "language_info": {
      "name": "python"
    }
  },
  "cells": [
    {
      "cell_type": "markdown",
      "metadata": {
        "id": "view-in-github",
        "colab_type": "text"
      },
      "source": [
        "<a href=\"https://colab.research.google.com/github/EmidioLP/Freecodecamp/blob/main/Notebooks/Machine%20Learning%20with%20Python/Clustering.ipynb\" target=\"_parent\"><img src=\"https://colab.research.google.com/assets/colab-badge.svg\" alt=\"Open In Colab\"/></a>"
      ]
    },
    {
      "cell_type": "markdown",
      "source": [
        "Esse notebook é baseado nas aulas disponibilizadas em: https://www.freecodecamp.org/portuguese/learn/machine-learning-with-python/"
      ],
      "metadata": {
        "id": "En-7bO6MV0Fg"
      }
    },
    {
      "cell_type": "markdown",
      "source": [
        "# Clustering\n",
        "\n",
        "Clustering é uma téncnica de Machine Learning que envolve o agrupamento de pontos de dados. É um tipo de treinamento que chamamos de ***Não-Supervisionado***. Na teoria, pontos de dados que estão no mesmo grupo devem ter propriedades e/ou características similires, enquanto pontos de dados em grupos diferentes deveriam ter propriedades e/ou características altamente distintas. (https://towardsdatascience.com/the-5-clustering-algorithms-data-scientists-need-to-know-a36d136ef68)"
      ],
      "metadata": {
        "id": "3hLd2MtTTlcc"
      }
    },
    {
      "cell_type": "markdown",
      "source": [
        "# Hidden Markov Model\n",
        "\n",
        "\"O Modelo Oculto de Markov é um conjunto finito de estados , cada um dos quais está associado a uma distribuição de probabilidade (geralmente multidimensional) []. As transições entre os estados são governadas por um conjunto de probabilidades chamadas probabilidades de transição.\" (http://jedlik.phy.bme.hu/~gerjanos/HMM/node4.html)\n",
        "\n",
        "O Modelo Oculto de Markov trabalha com probabilidade para prever eventos futuros ou estados. Nesse módulo, irá se utilizar esse modelo para prever dados sobre o Clima. \n",
        "\n",
        "Essa seção é baseada no seguinte tutorial disponibilizado pelo próprio Tensorflow: https://www.tensorflow.org/probability/api_docs/python/tfp/distributions/HiddenMarkovModel"
      ],
      "metadata": {
        "id": "HUUR02srUZy5"
      }
    },
    {
      "cell_type": "markdown",
      "source": [
        "# Dados\n",
        "\n",
        "Primeiro vamos falar sobre o tipo de dados que usamos quando vamos trabalhar com o \"modelo oculto de Markov\".\n",
        "\n",
        "Nas seções anteriores foram trabalhados grandes datasets de 100 ou mais diferentes entradas. Com o modelo de Markov, estamos interessados apenas na probabilidade de distribuição desses dados. \n",
        "\n",
        "Nós então acharemos essas probabilidades ocultas em grandes datasets ou até mesmo já tenhamos esses valores.\n",
        "\n",
        "**States:** Em cada modelo de Markov há um número de estados finitos. Esses estados, como iremos trabalhar com uma base de dados de Clima, pode ser algo como \"frio\", \"quente\" ou \"alto\" e \"baixo\" ou \"vermelho\", \"verde\" e \"azul\". Esses estados estão \"escondidos\" dentro do modelo, o que significa que não podemos observa-los diretamente.\n",
        "\n",
        "**Observations:** Cada estado tem uma saída particular ou associada a uma distribuição de probabilidade. Um exemplo pode ser como: Em um dia quente, Tim tem uma probabilidade de *80%* de estar feliz e *20%* de estar triste.\n",
        "\n",
        "**Transitions:** Cada estado terá uma probibabilidade que define a possibilidade de transição para um estado diferente. Um exemplo pode ser o seguinte: Um dia frio tem *30%* de chance de ser seguido por um dia quente e *70%* de chance de ser seguido por outro dia frio.\n",
        "\n",
        "Para a criação de um modelo oculto de Markov precisamos de: \n",
        "\n",
        "\n",
        "*   States (Estados)\n",
        "*   Observation Distribution (Distribuição de observação)\n",
        "*   Transition Distribution (Distribuição de transição)\n",
        "\n",
        "Para o propósito desse módulo, é assumido que nós já temos essa informação disponível enquanto tentamos prever o clima em um dado dia.\n",
        "\n",
        "\n",
        "\n"
      ],
      "metadata": {
        "id": "4IS-vPcslLHg"
      }
    },
    {
      "cell_type": "markdown",
      "source": [
        "# Imports e Setup"
      ],
      "metadata": {
        "id": "SvvNgNEcoRMA"
      }
    },
    {
      "cell_type": "code",
      "execution_count": 1,
      "metadata": {
        "id": "jF0gThQHTj5H",
        "colab": {
          "base_uri": "https://localhost:8080/"
        },
        "outputId": "84cbba79-20a6-4afb-938a-d6c5d456385f"
      },
      "outputs": [
        {
          "output_type": "stream",
          "name": "stdout",
          "text": [
            "Colab only includes TensorFlow 2.x; %tensorflow_version has no effect.\n"
          ]
        }
      ],
      "source": [
        "%tensorflow_version 2.x #Necessária apenas caso trabalhe-se com um notebook."
      ]
    },
    {
      "cell_type": "code",
      "source": [
        "import tensorflow_probability as tfp # Modulo do tensorflow para modelos que utilizam probabilidade\n",
        "import tensorflow as tf"
      ],
      "metadata": {
        "id": "kU9wnBSiod8h"
      },
      "execution_count": 2,
      "outputs": []
    }
  ]
}