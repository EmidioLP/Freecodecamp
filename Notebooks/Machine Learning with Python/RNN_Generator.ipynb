{
  "nbformat": 4,
  "nbformat_minor": 0,
  "metadata": {
    "colab": {
      "provenance": [],
      "authorship_tag": "ABX9TyP5MMFvlNNsQJ2iNHg4PqVT",
      "include_colab_link": true
    },
    "kernelspec": {
      "name": "python3",
      "display_name": "Python 3"
    },
    "language_info": {
      "name": "python"
    },
    "accelerator": "GPU"
  },
  "cells": [
    {
      "cell_type": "markdown",
      "metadata": {
        "id": "view-in-github",
        "colab_type": "text"
      },
      "source": [
        "<a href=\"https://colab.research.google.com/github/EmidioLP/Freecodecamp/blob/main/Notebooks/Machine%20Learning%20with%20Python/RNN_Generator.ipynb\" target=\"_parent\"><img src=\"https://colab.research.google.com/assets/colab-badge.svg\" alt=\"Open In Colab\"/></a>"
      ]
    },
    {
      "cell_type": "markdown",
      "source": [
        "Esse notebook é baseado nas aulas disponibilizadas em: https://www.freecodecamp.org/portuguese/learn/machine-learning-with-python/"
      ],
      "metadata": {
        "id": "-0j_bFpU0Rfy"
      }
    },
    {
      "cell_type": "markdown",
      "source": [
        "Esse notebook é baseado no seguinte guia disponibilizado na documentação do Tensorflow: https://www.tensorflow.org/tutorials/text/text_generator"
      ],
      "metadata": {
        "id": "kzftRv2z0bLs"
      }
    },
    {
      "cell_type": "markdown",
      "source": [
        "#Imports e Setup"
      ],
      "metadata": {
        "id": "b1gUd0tD0lgs"
      }
    },
    {
      "cell_type": "code",
      "execution_count": 1,
      "metadata": {
        "id": "acgft63w0I-_"
      },
      "outputs": [],
      "source": [
        "from keras.preprocessing import sequence\n",
        "import keras\n",
        "import tensorflow as tf\n",
        "import os\n",
        "import numpy as np"
      ]
    },
    {
      "cell_type": "markdown",
      "source": [
        "# Dataset"
      ],
      "metadata": {
        "id": "BP8hkV9V0tu0"
      }
    },
    {
      "cell_type": "code",
      "source": [],
      "metadata": {
        "id": "99TI01cb02ag"
      },
      "execution_count": null,
      "outputs": []
    }
  ]
}