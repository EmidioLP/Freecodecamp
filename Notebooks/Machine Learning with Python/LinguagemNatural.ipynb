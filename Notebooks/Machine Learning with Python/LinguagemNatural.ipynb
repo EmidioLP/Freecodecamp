{
  "nbformat": 4,
  "nbformat_minor": 0,
  "metadata": {
    "colab": {
      "provenance": [],
      "authorship_tag": "ABX9TyPVWuA++zOV/ctZ/ECXI9eg",
      "include_colab_link": true
    },
    "kernelspec": {
      "name": "python3",
      "display_name": "Python 3"
    },
    "language_info": {
      "name": "python"
    }
  },
  "cells": [
    {
      "cell_type": "markdown",
      "metadata": {
        "id": "view-in-github",
        "colab_type": "text"
      },
      "source": [
        "<a href=\"https://colab.research.google.com/github/EmidioLP/Freecodecamp/blob/main/Notebooks/Machine%20Learning%20with%20Python/LinguagemNatural.ipynb\" target=\"_parent\"><img src=\"https://colab.research.google.com/assets/colab-badge.svg\" alt=\"Open In Colab\"/></a>"
      ]
    },
    {
      "cell_type": "markdown",
      "source": [
        "Esse notebook é baseado nas aulas disponibilizadas em: https://www.freecodecamp.org/portuguese/learn/machine-learning-with-python/"
      ],
      "metadata": {
        "id": "ZqeoV-dUJdBe"
      }
    },
    {
      "cell_type": "markdown",
      "source": [
        "Esse material é baseado na seguinte guia disponibilizada na documentação do Tensorflow: https://tensorflow.org/tutorials/text/text_classification_rnn\n",
        "\n",
        "Iremos classificar a review de filmes e verificar se são positivas, negativas ou neutras."
      ],
      "metadata": {
        "id": "UdBN8AqxZkUf"
      }
    },
    {
      "cell_type": "markdown",
      "source": [
        "# Redes neurais recorrentes\n",
        "\n",
        "Nesse módulo será introduzido um novo tipo de rede neural que é mais capaz de processar dados sequenciais como texto ou caracteres chamada **Rede Neural Recorrente (recurrent neural network)** ou RNN. \n",
        "\n",
        "Aprenderemos a utilizar uma RNN para o seguinte:\n",
        "\n",
        "\n",
        "*   Análise de sentimentos\n",
        "*   Geração de caracteres"
      ],
      "metadata": {
        "id": "oCENM-zXK1M7"
      }
    },
    {
      "cell_type": "code",
      "source": [],
      "metadata": {
        "id": "rbKgfvbBJeAI"
      },
      "execution_count": null,
      "outputs": []
    }
  ]
}