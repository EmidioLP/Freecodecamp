{
  "nbformat": 4,
  "nbformat_minor": 0,
  "metadata": {
    "colab": {
      "provenance": [],
      "authorship_tag": "ABX9TyNw+6HkTSd4boN9mYtQq3dp",
      "include_colab_link": true
    },
    "kernelspec": {
      "name": "python3",
      "display_name": "Python 3"
    },
    "language_info": {
      "name": "python"
    },
    "accelerator": "GPU"
  },
  "cells": [
    {
      "cell_type": "markdown",
      "metadata": {
        "id": "view-in-github",
        "colab_type": "text"
      },
      "source": [
        "<a href=\"https://colab.research.google.com/github/EmidioLP/Freecodecamp/blob/main/Notebooks/Machine%20Learning%20with%20Python/Q_Learning.ipynb\" target=\"_parent\"><img src=\"https://colab.research.google.com/assets/colab-badge.svg\" alt=\"Open In Colab\"/></a>"
      ]
    },
    {
      "cell_type": "markdown",
      "source": [
        "Esse notebook é baseado nas aulas disponibilizadas em: https://www.freecodecamp.org/portuguese/learn/machine-learning-with-python/"
      ],
      "metadata": {
        "id": "5tCLmCIXPYZ4"
      }
    },
    {
      "cell_type": "code",
      "source": [
        "import gym"
      ],
      "metadata": {
        "id": "cO5rQRwESB2O"
      },
      "execution_count": 67,
      "outputs": []
    },
    {
      "cell_type": "code",
      "source": [
        "env = gym.make('FrozenLake-v1')"
      ],
      "metadata": {
        "id": "jPkLKvZXPpEr"
      },
      "execution_count": 68,
      "outputs": []
    },
    {
      "cell_type": "code",
      "source": [
        "print(env.observation_space.n) #Número de estados\n",
        "print(env.action_space.n) #Número de ações"
      ],
      "metadata": {
        "id": "NpCPQ2X4P0WJ",
        "outputId": "ed1db116-206c-4be7-ad56-a197d144c5a0",
        "colab": {
          "base_uri": "https://localhost:8080/"
        }
      },
      "execution_count": 69,
      "outputs": [
        {
          "output_type": "stream",
          "name": "stdout",
          "text": [
            "16\n",
            "4\n"
          ]
        }
      ]
    },
    {
      "cell_type": "code",
      "source": [
        "env.reset() #Reset para o estado padrão"
      ],
      "metadata": {
        "id": "w_uUSRxsP_6y",
        "outputId": "7ff51a56-3638-426d-f022-6db431240587",
        "colab": {
          "base_uri": "https://localhost:8080/"
        }
      },
      "execution_count": 78,
      "outputs": [
        {
          "output_type": "execute_result",
          "data": {
            "text/plain": [
              "0"
            ]
          },
          "metadata": {},
          "execution_count": 78
        }
      ]
    },
    {
      "cell_type": "code",
      "source": [
        "action = env.action_space.sample() #Pega um estado randômico"
      ],
      "metadata": {
        "id": "d959r0cfQC-l"
      },
      "execution_count": 79,
      "outputs": []
    },
    {
      "cell_type": "code",
      "source": [
        "new_state, reward, done, info = env.step(action)"
      ],
      "metadata": {
        "id": "VFFhp0oHQStn"
      },
      "execution_count": 80,
      "outputs": []
    },
    {
      "cell_type": "markdown",
      "source": [
        "# Criando a tabela\n"
      ],
      "metadata": {
        "id": "XyKalwlbSnVP"
      }
    },
    {
      "cell_type": "code",
      "source": [
        "import numpy as np\n",
        "import time\n",
        "\n",
        "\n",
        "STATES = env.observation_space.n\n",
        "ACTIONS = env.action_space.n"
      ],
      "metadata": {
        "id": "jFrkU8bdSowX"
      },
      "execution_count": 74,
      "outputs": []
    },
    {
      "cell_type": "code",
      "source": [
        "Q = np.zeros((STATES, ACTIONS))\n",
        "Q"
      ],
      "metadata": {
        "id": "o_sy5tk6Sxoa",
        "outputId": "c3022aa1-2538-4b2b-a1a7-f8deec7f1d7d",
        "colab": {
          "base_uri": "https://localhost:8080/"
        }
      },
      "execution_count": 75,
      "outputs": [
        {
          "output_type": "execute_result",
          "data": {
            "text/plain": [
              "array([[0., 0., 0., 0.],\n",
              "       [0., 0., 0., 0.],\n",
              "       [0., 0., 0., 0.],\n",
              "       [0., 0., 0., 0.],\n",
              "       [0., 0., 0., 0.],\n",
              "       [0., 0., 0., 0.],\n",
              "       [0., 0., 0., 0.],\n",
              "       [0., 0., 0., 0.],\n",
              "       [0., 0., 0., 0.],\n",
              "       [0., 0., 0., 0.],\n",
              "       [0., 0., 0., 0.],\n",
              "       [0., 0., 0., 0.],\n",
              "       [0., 0., 0., 0.],\n",
              "       [0., 0., 0., 0.],\n",
              "       [0., 0., 0., 0.],\n",
              "       [0., 0., 0., 0.]])"
            ]
          },
          "metadata": {},
          "execution_count": 75
        }
      ]
    },
    {
      "cell_type": "markdown",
      "source": [
        "# Constantes\n",
        "\n",
        "Precisamos definir algumas constantes que iremos utilizar para fazer a atualização da tabela e informar ao nosso agente quando deve parar de treinar."
      ],
      "metadata": {
        "id": "6rtMKhavTDh9"
      }
    },
    {
      "cell_type": "code",
      "source": [
        "EPISODES = 2000\n",
        "MAX_STEPS = 100\n",
        "\n",
        "LEARNING_RATE = 0.81\n",
        "GAMMA = 0.96"
      ],
      "metadata": {
        "id": "Wfxwu5IdTJR-"
      },
      "execution_count": 76,
      "outputs": []
    },
    {
      "cell_type": "markdown",
      "source": [
        "# Selecionando uma ação\n",
        "\n",
        "Uma ação a ser realizada pelo agente pode ser selecionada utilizando-se dois métodos:\n",
        "\n",
        "\n",
        "*   Pegando randômicamente uma ação válida\n",
        "*   Utilizando a tabela para encontrar a melhor ação\n",
        "\n"
      ],
      "metadata": {
        "id": "8AYfG34QTVct"
      }
    },
    {
      "cell_type": "markdown",
      "source": [
        "# Atualizando os valores da tabela"
      ],
      "metadata": {
        "id": "PdPPIoCFUDit"
      }
    },
    {
      "cell_type": "code",
      "source": [
        "RENDER = False\n",
        "epsilon = 0.9"
      ],
      "metadata": {
        "id": "3-rx7gRPUFl0"
      },
      "execution_count": 77,
      "outputs": []
    },
    {
      "cell_type": "code",
      "source": [
        "rewards = []\n",
        "for episode in range(EPISODES):\n",
        "\n",
        "  state = env.reset()\n",
        "  for _ in range(MAX_STEPS):\n",
        "\n",
        "    if RENDER:\n",
        "      env.render()\n",
        "\n",
        "    if np.random.uniform(0, 1) < epsilon:\n",
        "      action = env.action_space.sample()\n",
        "    else:\n",
        "      action = np.argmax(Q[state, :])\n",
        "    \n",
        "    next_state, reward, done, _ = env.step(action)\n",
        "\n",
        "    Q[state, action] = Q[state, action] + LEARNING_RATE * (reward + GAMMA * np.max(Q[next_state, :]) - Q[state, action])\n",
        "\n",
        "    state = next_state\n",
        "    \n",
        "    if done:\n",
        "      rewards.append(reward)\n",
        "      epsilon -= 0.001\n",
        "      break\n",
        "\n",
        "print(Q)\n",
        "print(f\"Average Reward: {sum(rewards)/len(rewards)}:\")"
      ],
      "metadata": {
        "id": "Z8L-LZVPVWjB",
        "outputId": "4dd9e626-ab13-44e8-9c3d-8719ed0dc95c",
        "colab": {
          "base_uri": "https://localhost:8080/"
        }
      },
      "execution_count": 81,
      "outputs": [
        {
          "output_type": "stream",
          "name": "stdout",
          "text": [
            "[[2.10717680e-01 2.29972205e-02 1.86391148e-02 1.88009672e-02]\n",
            " [5.05928514e-03 1.24866807e-02 1.05195559e-03 2.85051339e-01]\n",
            " [3.20415333e-03 5.55388319e-03 7.02956556e-03 1.57430893e-01]\n",
            " [1.76715032e-03 4.11746719e-03 3.45093092e-03 1.38489924e-01]\n",
            " [3.16829119e-01 4.04274069e-03 4.79950750e-04 5.87120337e-03]\n",
            " [0.00000000e+00 0.00000000e+00 0.00000000e+00 0.00000000e+00]\n",
            " [1.06318993e-01 1.31735165e-04 3.48767115e-04 2.31846714e-05]\n",
            " [0.00000000e+00 0.00000000e+00 0.00000000e+00 0.00000000e+00]\n",
            " [1.15042437e-02 2.46467495e-03 1.79668061e-02 4.71908122e-01]\n",
            " [6.69367977e-03 6.27897487e-01 5.66918505e-03 8.96659256e-03]\n",
            " [8.66952623e-01 4.17119312e-03 2.92979359e-03 1.52360058e-03]\n",
            " [0.00000000e+00 0.00000000e+00 0.00000000e+00 0.00000000e+00]\n",
            " [0.00000000e+00 0.00000000e+00 0.00000000e+00 0.00000000e+00]\n",
            " [2.27029222e-02 3.13283904e-02 8.53103800e-01 4.94629640e-02]\n",
            " [1.13217513e-01 9.83202725e-01 1.40262204e-01 1.76104590e-01]\n",
            " [0.00000000e+00 0.00000000e+00 0.00000000e+00 0.00000000e+00]]\n",
            "Average Reward: 0.426:\n"
          ]
        }
      ]
    },
    {
      "cell_type": "code",
      "source": [
        "import matplotlib.pyplot as plt\n",
        "\n",
        "def get_average(values):\n",
        "  return sum(values)/len(values)\n",
        "\n",
        "avg_rewards = []\n",
        "for i in range(0, len(rewards), 100):\n",
        "  avg_rewards.append(get_average(rewards[i:i+100]))\n",
        "\n",
        "plt.plot(avg_rewards)\n",
        "plt.ylabel('average reward')\n",
        "plt.xlabel('episodes')\n",
        "plt.show()"
      ],
      "metadata": {
        "id": "Y-Q9lwklW_AJ",
        "outputId": "ffa635a1-ee9c-4ece-9a56-3e58650c5d72",
        "colab": {
          "base_uri": "https://localhost:8080/",
          "height": 279
        }
      },
      "execution_count": 82,
      "outputs": [
        {
          "output_type": "display_data",
          "data": {
            "text/plain": [
              "<Figure size 432x288 with 1 Axes>"
            ],
            "image/png": "[encoded data removed]"
          },
          "metadata": {
            "needs_background": "light"
          }
        }
      ]
    }
  ]
}