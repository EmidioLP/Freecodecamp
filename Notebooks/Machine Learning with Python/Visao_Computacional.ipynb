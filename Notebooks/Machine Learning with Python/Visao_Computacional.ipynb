{
  "nbformat": 4,
  "nbformat_minor": 0,
  "metadata": {
    "colab": {
      "provenance": [],
      "authorship_tag": "ABX9TyOlmSdELlqNUEBAVVGU240Z",
      "include_colab_link": true
    },
    "kernelspec": {
      "name": "python3",
      "display_name": "Python 3"
    },
    "language_info": {
      "name": "python"
    }
  },
  "cells": [
    {
      "cell_type": "markdown",
      "metadata": {
        "id": "view-in-github",
        "colab_type": "text"
      },
      "source": [
        "<a href=\"https://colab.research.google.com/github/EmidioLP/Freecodecamp/blob/main/Notebooks/Machine%20Learning%20with%20Python/Visao_Computacional.ipynb\" target=\"_parent\"><img src=\"https://colab.research.google.com/assets/colab-badge.svg\" alt=\"Open In Colab\"/></a>"
      ]
    },
    {
      "cell_type": "markdown",
      "source": [
        "Esse notebook é baseado nas aulas disponibilizadas em: https://www.freecodecamp.org/portuguese/learn/machine-learning-with-python/"
      ],
      "metadata": {
        "id": "qfrqFtHP8Fvi"
      }
    },
    {
      "cell_type": "markdown",
      "source": [
        "# Visão computacional\n",
        "\n",
        "Esse módulo irá ensinar classificação de imagens e detecção/reconhecimento de objetos utilizando visão computacional com algo chamado **convolutional neural network**.\n",
        "\n",
        "Esse algoritmo detém as seguintes características:\n",
        "\n",
        "\n",
        "*   Image Data\n",
        "*   Convolutional Layer\n",
        "*   Pooling Layer\n",
        "*   CNN Architectures\n",
        "\n"
      ],
      "metadata": {
        "id": "GelCGjVMs9bi"
      }
    },
    {
      "cell_type": "markdown",
      "source": [
        "# Image Data\n",
        "\n",
        "Agora, iremos lidar com dados em imagem que geralmente é criado com três dimensões. As três dimensões são as seguintes:\n",
        "\n",
        "\n",
        "\n",
        "*   Image height\n",
        "*   Image width\n",
        "*   Color channels\n",
        "\n",
        "O atributo **Color channel** representa a profundidade da imagem e é coorelacionado as cores utilizadas nela. Por exemplo, uma image com três canais (channels) esta provavelmente utilizando o formato rgb (red, green, blue) de pixels. Cada pixel terá três valores numéricos que representam cada cor. \n",
        "\n"
      ],
      "metadata": {
        "id": "NuXWna4BtlCA"
      }
    },
    {
      "cell_type": "markdown",
      "source": [
        "# Dataset\n",
        "\n",
        "Essa aula foi baseada na seguinte guia disponibilizada na documentação do Tensorflow: https://wwwmtensorflow.org/tutorials/images/cnn\n",
        "\n",
        "O problema que iremos tratar é a classificação de 10 diferentes objetos do dia a dia. A base de dados é padrão da biblioteca Tensorflow e é chamada CIFAR Image Dataset. Nela contém 60,000 32x32 imagens com cor com 6000 imagens para cada classe. \n",
        "\n",
        "As labels no dataset são:\n",
        "\n",
        "\n",
        "*   Airplane\n",
        "*   Automobile\n",
        "*   Bird\n",
        "*   Cat\n",
        "*   Deer\n",
        "*   Dog\n",
        "*   Frog\n",
        "*   Horse\n",
        "*   Ship\n",
        "*   Truck\n",
        "\n"
      ],
      "metadata": {
        "id": "fx8vq5Cgztw1"
      }
    },
    {
      "cell_type": "markdown",
      "source": [
        "# Imports e Setup"
      ],
      "metadata": {
        "id": "KU0eMvQW0bAT"
      }
    },
    {
      "cell_type": "code",
      "execution_count": 1,
      "metadata": {
        "id": "1n_9NX1-8E42"
      },
      "outputs": [],
      "source": [
        "import tensorflow as tf\n",
        "\n",
        "from tensorflow.keras import datasets, layers, models\n",
        "import matplotlib.pyplot as plt"
      ]
    },
    {
      "cell_type": "code",
      "source": [
        "#Carregando e dividindo o dataset\n",
        "(train_images, train_labels), (test_images, test_labels) = datasets.cifar10.load_data()\n",
        "\n",
        "#Normalização dos valores dos pixels para ficarem entre 0 e 1\n",
        "train_images, test_images = train_images / 255.0, test_images/ 255.0\n",
        "\n",
        "class_names=['airplane', 'automobile', 'bird', 'cat', 'deer', 'dog', 'frog', 'horse', 'ship', 'truck']"
      ],
      "metadata": {
        "colab": {
          "base_uri": "https://localhost:8080/"
        },
        "id": "4V1QEqbZ0m5b",
        "outputId": "310ddda3-ccfd-4303-a0c9-80ddc6173d6d"
      },
      "execution_count": 2,
      "outputs": [
        {
          "output_type": "stream",
          "name": "stdout",
          "text": [
            "Downloading data from https://www.cs.toronto.edu/~kriz/cifar-10-python.tar.gz\n",
            "170500096/170498071 [==============================] - 2s 0us/step\n",
            "170508288/170498071 [==============================] - 2s 0us/step\n"
          ]
        }
      ]
    },
    {
      "cell_type": "code",
      "source": [
        "#Verificando uma imagem\n",
        "IMG_INDEX = 1 #Indexação da imagem no dataset, basta modificar para ver diferentes imagens\n",
        "\n",
        "plt.imshow(train_images[IMG_INDEX], cmap=plt.cm.binary)\n",
        "plt.xlabel(class_names[train_labels[IMG_INDEX][0]])\n",
        "plt.show()"
      ],
      "metadata": {
        "colab": {
          "base_uri": "https://localhost:8080/",
          "height": 280
        },
        "id": "YmEL5-6D1G8n",
        "outputId": "59f3a534-494a-41a4-e4c2-b5caf1f1ceb1"
      },
      "execution_count": 6,
      "outputs": [
        {
          "output_type": "display_data",
          "data": {
            "text/plain": [
              "<Figure size 432x288 with 1 Axes>"
            ],
            "image/png": "[encoded data removed]"
          },
          "metadata": {
            "needs_background": "light"
          }
        }
      ]
    },
    {
      "cell_type": "markdown",
      "source": [
        "# CNN Architecture\n",
        "\n",
        "Vamos iniciar a construção de uma rede convulacional."
      ],
      "metadata": {
        "id": "SXkuBVNO1zXi"
      }
    },
    {
      "cell_type": "code",
      "source": [
        "model = models.Sequential()\n",
        "model.add(layers.Conv2D(32, (3, 3), activation='relu', input_shape=(32, 32, 3)))\n",
        "model.add(layers.MaxPooling2D((2,2)))\n",
        "model.add(layers.Conv2D(64, (3,3), activation='relu'))\n",
        "model.add(layers.MaxPooling2D((2,2)))\n",
        "model.add(layers.Conv2D(64, (3,3), activation='relu'))"
      ],
      "metadata": {
        "id": "B6jnWGX518gu"
      },
      "execution_count": 8,
      "outputs": []
    },
    {
      "cell_type": "markdown",
      "source": [
        "**Camada 1**\n",
        "\n",
        "A entrada dos nossos dados se da em 32, 32, 3 e nós iremos processar 32 filtros de tamanho 3x3. Também iremos utilizar a função de ativação relu para cada operação convulacional.\n",
        "\n",
        "**Camada 2**\n",
        "\n",
        "Essa camada irá realizar a opreção de max pooling utilizando pedaços 2x2 e com uma stride de 2.\n",
        "\n",
        "**Outras camadas**\n",
        "\n",
        "As outras camadas farão algo similar as duas superiores mas usando as entradas do feature map anterior."
      ],
      "metadata": {
        "id": "uP9ym9PJ2uce"
      }
    },
    {
      "cell_type": "code",
      "source": [
        "model.summary()"
      ],
      "metadata": {
        "colab": {
          "base_uri": "https://localhost:8080/"
        },
        "id": "UxQwF-ph3PmB",
        "outputId": "509919d9-c661-4fcf-fd6b-ddaba4e0c1d9"
      },
      "execution_count": 9,
      "outputs": [
        {
          "output_type": "stream",
          "name": "stdout",
          "text": [
            "Model: \"sequential_1\"\n",
            "_________________________________________________________________\n",
            " Layer (type)                Output Shape              Param #   \n",
            "=================================================================\n",
            " conv2d_1 (Conv2D)           (None, 30, 30, 32)        896       \n",
            "                                                                 \n",
            " max_pooling2d_1 (MaxPooling  (None, 15, 15, 32)       0         \n",
            " 2D)                                                             \n",
            "                                                                 \n",
            " conv2d_2 (Conv2D)           (None, 13, 13, 64)        18496     \n",
            "                                                                 \n",
            " max_pooling2d_2 (MaxPooling  (None, 6, 6, 64)         0         \n",
            " 2D)                                                             \n",
            "                                                                 \n",
            " conv2d_3 (Conv2D)           (None, 4, 4, 64)          36928     \n",
            "                                                                 \n",
            "=================================================================\n",
            "Total params: 56,320\n",
            "Trainable params: 56,320\n",
            "Non-trainable params: 0\n",
            "_________________________________________________________________\n"
          ]
        }
      ]
    },
    {
      "cell_type": "markdown",
      "source": [
        "# Adicionando camadas densas"
      ],
      "metadata": {
        "id": "uINGcS5w3YYF"
      }
    },
    {
      "cell_type": "code",
      "source": [
        "model.add(layers.Flatten())\n",
        "model.add(layers.Dense(64, activation='relu'))\n",
        "model.add(layers.Dense(10))"
      ],
      "metadata": {
        "id": "xvN5lNfx3iaE"
      },
      "execution_count": 10,
      "outputs": []
    },
    {
      "cell_type": "code",
      "source": [
        "model.summary()"
      ],
      "metadata": {
        "colab": {
          "base_uri": "https://localhost:8080/"
        },
        "id": "O8ouNtcA31eX",
        "outputId": "2267c6e3-255f-4a8d-b3e0-6da0d41c38f7"
      },
      "execution_count": 11,
      "outputs": [
        {
          "output_type": "stream",
          "name": "stdout",
          "text": [
            "Model: \"sequential_1\"\n",
            "_________________________________________________________________\n",
            " Layer (type)                Output Shape              Param #   \n",
            "=================================================================\n",
            " conv2d_1 (Conv2D)           (None, 30, 30, 32)        896       \n",
            "                                                                 \n",
            " max_pooling2d_1 (MaxPooling  (None, 15, 15, 32)       0         \n",
            " 2D)                                                             \n",
            "                                                                 \n",
            " conv2d_2 (Conv2D)           (None, 13, 13, 64)        18496     \n",
            "                                                                 \n",
            " max_pooling2d_2 (MaxPooling  (None, 6, 6, 64)         0         \n",
            " 2D)                                                             \n",
            "                                                                 \n",
            " conv2d_3 (Conv2D)           (None, 4, 4, 64)          36928     \n",
            "                                                                 \n",
            " flatten (Flatten)           (None, 1024)              0         \n",
            "                                                                 \n",
            " dense (Dense)               (None, 64)                65600     \n",
            "                                                                 \n",
            " dense_1 (Dense)             (None, 10)                650       \n",
            "                                                                 \n",
            "=================================================================\n",
            "Total params: 122,570\n",
            "Trainable params: 122,570\n",
            "Non-trainable params: 0\n",
            "_________________________________________________________________\n"
          ]
        }
      ]
    },
    {
      "cell_type": "markdown",
      "source": [
        "#Treinamento\n"
      ],
      "metadata": {
        "id": "BSxIrhYc4KOW"
      }
    },
    {
      "cell_type": "code",
      "source": [
        "model.compile(optimizer='adam',\n",
        "              loss=tf.keras.losses.SparseCategoricalCrossentropy(from_logits=True),\n",
        "              metrics=['accuracy'])\n",
        "\n",
        "history = model.fit(train_images, train_labels, epochs=10,\n",
        "                    validation_data=(test_images, test_labels))"
      ],
      "metadata": {
        "colab": {
          "base_uri": "https://localhost:8080/"
        },
        "id": "t2jtfT-34LC6",
        "outputId": "9c970990-f498-4dc5-ee22-bfefbdc32c66"
      },
      "execution_count": 12,
      "outputs": [
        {
          "output_type": "stream",
          "name": "stdout",
          "text": [
            "Epoch 1/10\n",
            "1563/1563 [==============================] - 85s 54ms/step - loss: 1.5513 - accuracy: 0.4332 - val_loss: 1.3569 - val_accuracy: 0.5141\n",
            "Epoch 2/10\n",
            "1563/1563 [==============================] - 80s 51ms/step - loss: 1.1876 - accuracy: 0.5771 - val_loss: 1.1710 - val_accuracy: 0.5810\n",
            "Epoch 3/10\n",
            "1563/1563 [==============================] - 75s 48ms/step - loss: 1.0382 - accuracy: 0.6339 - val_loss: 1.0283 - val_accuracy: 0.6369\n",
            "Epoch 4/10\n",
            "1563/1563 [==============================] - 74s 48ms/step - loss: 0.9444 - accuracy: 0.6680 - val_loss: 0.9380 - val_accuracy: 0.6704\n",
            "Epoch 5/10\n",
            "1563/1563 [==============================] - 74s 47ms/step - loss: 0.8684 - accuracy: 0.6936 - val_loss: 0.9513 - val_accuracy: 0.6685\n",
            "Epoch 6/10\n",
            "1563/1563 [==============================] - 73s 47ms/step - loss: 0.8092 - accuracy: 0.7157 - val_loss: 0.9005 - val_accuracy: 0.6824\n",
            "Epoch 7/10\n",
            "1563/1563 [==============================] - 75s 48ms/step - loss: 0.7628 - accuracy: 0.7306 - val_loss: 0.9048 - val_accuracy: 0.6938\n",
            "Epoch 8/10\n",
            "1563/1563 [==============================] - 74s 47ms/step - loss: 0.7183 - accuracy: 0.7478 - val_loss: 0.8989 - val_accuracy: 0.6903\n",
            "Epoch 9/10\n",
            "1563/1563 [==============================] - 74s 47ms/step - loss: 0.6767 - accuracy: 0.7626 - val_loss: 0.8739 - val_accuracy: 0.6971\n",
            "Epoch 10/10\n",
            "1563/1563 [==============================] - 76s 48ms/step - loss: 0.6374 - accuracy: 0.7762 - val_loss: 0.8793 - val_accuracy: 0.7036\n"
          ]
        }
      ]
    },
    {
      "cell_type": "markdown",
      "source": [
        "# Validação do modelo"
      ],
      "metadata": {
        "id": "q_qb0gdg4kBC"
      }
    },
    {
      "cell_type": "code",
      "source": [
        "test_loss, test_acc = model.evaluate(test_images, test_labels, verbose=2)\n",
        "\n",
        "print(test_acc)"
      ],
      "metadata": {
        "colab": {
          "base_uri": "https://localhost:8080/"
        },
        "id": "901wYTY84mR5",
        "outputId": "96ba4f62-25c2-42dc-9bbf-2a131f84e899"
      },
      "execution_count": 14,
      "outputs": [
        {
          "output_type": "stream",
          "name": "stdout",
          "text": [
            "313/313 - 4s - loss: 0.8793 - accuracy: 0.7036 - 4s/epoch - 13ms/step\n",
            "0.7035999894142151\n"
          ]
        }
      ]
    },
    {
      "cell_type": "markdown",
      "source": [
        "# Acréscimo de dados\n",
        "\n",
        "Em uma ocasião aonde não se há milhões de imagens, é dificil o treinamento de um modelo CNN do nada que performe muito bem. Por isso precisamos aprender algumas estratégias de treinamento de modelos CNN em bases de dados pequenas. \n",
        "\n",
        "Para evitar o overfitting e criar uma base de dados maior de uma menor se é utlizad a técnica chamada **data augmentation**. Ela é simplesmente a realização de transformações randômicas nas imagens para que o modelo possa generalizar de uma forma melhor. Essa transformação pode ser algo como compressão, rotação, esticar e até mudança de cor. "
      ],
      "metadata": {
        "id": "Gwsr8k6z9zFb"
      }
    },
    {
      "cell_type": "code",
      "source": [
        "from keras.preprocessing import image\n",
        "from keras.preprocessing.image import ImageDataGenerator\n",
        "\n",
        "#Cria um objeto 'data generator' que transforma imagens\n",
        "datagen = ImageDataGenerator(\n",
        "    rotation_range=40,\n",
        "    width_shift_range=0.2,\n",
        "    height_shift_range=0.2,\n",
        "    shear_range=0.2,\n",
        "    zoom_range=0.2,\n",
        "    horizontal_flip=True,\n",
        "    fill_mode='nearest')\n",
        "\n",
        "#Seleciona uma imagem para transformar\n",
        "test_img = train_images[14]\n",
        "img = image.img_to_array(test_img) #Converte a imagem para um array numpy\n",
        "img = img.reshape((1,) + img.shape)\n",
        "\n",
        "i=0\n",
        "\n",
        "for batch in datagen.flow(img, save_prefix='test', save_format='jpeg'): #Esse loop rodar eternamente até darmos um break, salvando imagens\n",
        "  plt.figure(i)\n",
        "  plot = plt.imshow(image.img_to_array(batch[0]))\n",
        "  i +=1\n",
        "  if i>4: #Mostra quatro imagens\n",
        "    break\n",
        "\n",
        "plt.show()"
      ],
      "metadata": {
        "id": "R1m1o8pz-bw7",
        "outputId": "33c0caeb-318c-4b1a-a7b4-d9c485bb108c",
        "colab": {
          "base_uri": "https://localhost:8080/",
          "height": 1000
        }
      },
      "execution_count": 15,
      "outputs": [
        {
          "output_type": "display_data",
          "data": {
            "text/plain": [
              "<Figure size 432x288 with 1 Axes>"
            ],
            "image/png": "[encoded data removed]"
          },
          "metadata": {
            "needs_background": "light"
          }
        },
        {
          "output_type": "display_data",
          "data": {
            "text/plain": [
              "<Figure size 432x288 with 1 Axes>"
            ],
            "image/png": "[encoded data removed]"
          },
          "metadata": {
            "needs_background": "light"
          }
        },
        {
          "output_type": "display_data",
          "data": {
            "text/plain": [
              "<Figure size 432x288 with 1 Axes>"
            ],
            "image/png": "[encoded data removed]"
          },
          "metadata": {
            "needs_background": "light"
          }
        },
        {
          "output_type": "display_data",
          "data": {
            "text/plain": [
              "<Figure size 432x288 with 1 Axes>"
            ],
            "image/png": "[encoded data removed]"
          },
          "metadata": {
            "needs_background": "light"
          }
        },
        {
          "output_type": "display_data",
          "data": {
            "text/plain": [
              "<Figure size 432x288 with 1 Axes>"
            ],
            "image/png": "[encoded data removed]"
          },
          "metadata": {
            "needs_background": "light"
          }
        }
      ]
    }
  ]
}